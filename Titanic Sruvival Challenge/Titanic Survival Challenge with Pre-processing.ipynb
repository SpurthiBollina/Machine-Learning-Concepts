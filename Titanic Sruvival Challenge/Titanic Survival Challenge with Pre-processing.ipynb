{
 "cells": [
  {
   "cell_type": "code",
   "execution_count": 67,
   "metadata": {
    "collapsed": true
   },
   "outputs": [],
   "source": [
    "import pandas as pd\n",
    "import seaborn as sns\n",
    "import numpy as np\n",
    "import matplotlib.pyplot as plt\n",
    "import matplotlib.ticker as ticker"
   ]
  },
  {
   "cell_type": "code",
   "execution_count": 2,
   "metadata": {},
   "outputs": [
    {
     "data": {
      "text/html": [
       "<div>\n",
       "<style>\n",
       "    .dataframe thead tr:only-child th {\n",
       "        text-align: right;\n",
       "    }\n",
       "\n",
       "    .dataframe thead th {\n",
       "        text-align: left;\n",
       "    }\n",
       "\n",
       "    .dataframe tbody tr th {\n",
       "        vertical-align: top;\n",
       "    }\n",
       "</style>\n",
       "<table border=\"1\" class=\"dataframe\">\n",
       "  <thead>\n",
       "    <tr style=\"text-align: right;\">\n",
       "      <th></th>\n",
       "      <th>PassengerId</th>\n",
       "      <th>Survived</th>\n",
       "      <th>Pclass</th>\n",
       "      <th>Name</th>\n",
       "      <th>Sex</th>\n",
       "      <th>Age</th>\n",
       "      <th>SibSp</th>\n",
       "      <th>Parch</th>\n",
       "      <th>Ticket</th>\n",
       "      <th>Fare</th>\n",
       "      <th>Cabin</th>\n",
       "      <th>Embarked</th>\n",
       "    </tr>\n",
       "  </thead>\n",
       "  <tbody>\n",
       "    <tr>\n",
       "      <th>0</th>\n",
       "      <td>1</td>\n",
       "      <td>0</td>\n",
       "      <td>3</td>\n",
       "      <td>Braund, Mr. Owen Harris</td>\n",
       "      <td>male</td>\n",
       "      <td>22.0</td>\n",
       "      <td>1</td>\n",
       "      <td>0</td>\n",
       "      <td>A/5 21171</td>\n",
       "      <td>7.2500</td>\n",
       "      <td>NaN</td>\n",
       "      <td>S</td>\n",
       "    </tr>\n",
       "    <tr>\n",
       "      <th>1</th>\n",
       "      <td>2</td>\n",
       "      <td>1</td>\n",
       "      <td>1</td>\n",
       "      <td>Cumings, Mrs. John Bradley (Florence Briggs Th...</td>\n",
       "      <td>female</td>\n",
       "      <td>38.0</td>\n",
       "      <td>1</td>\n",
       "      <td>0</td>\n",
       "      <td>PC 17599</td>\n",
       "      <td>71.2833</td>\n",
       "      <td>C85</td>\n",
       "      <td>C</td>\n",
       "    </tr>\n",
       "    <tr>\n",
       "      <th>2</th>\n",
       "      <td>3</td>\n",
       "      <td>1</td>\n",
       "      <td>3</td>\n",
       "      <td>Heikkinen, Miss. Laina</td>\n",
       "      <td>female</td>\n",
       "      <td>26.0</td>\n",
       "      <td>0</td>\n",
       "      <td>0</td>\n",
       "      <td>STON/O2. 3101282</td>\n",
       "      <td>7.9250</td>\n",
       "      <td>NaN</td>\n",
       "      <td>S</td>\n",
       "    </tr>\n",
       "    <tr>\n",
       "      <th>3</th>\n",
       "      <td>4</td>\n",
       "      <td>1</td>\n",
       "      <td>1</td>\n",
       "      <td>Futrelle, Mrs. Jacques Heath (Lily May Peel)</td>\n",
       "      <td>female</td>\n",
       "      <td>35.0</td>\n",
       "      <td>1</td>\n",
       "      <td>0</td>\n",
       "      <td>113803</td>\n",
       "      <td>53.1000</td>\n",
       "      <td>C123</td>\n",
       "      <td>S</td>\n",
       "    </tr>\n",
       "    <tr>\n",
       "      <th>4</th>\n",
       "      <td>5</td>\n",
       "      <td>0</td>\n",
       "      <td>3</td>\n",
       "      <td>Allen, Mr. William Henry</td>\n",
       "      <td>male</td>\n",
       "      <td>35.0</td>\n",
       "      <td>0</td>\n",
       "      <td>0</td>\n",
       "      <td>373450</td>\n",
       "      <td>8.0500</td>\n",
       "      <td>NaN</td>\n",
       "      <td>S</td>\n",
       "    </tr>\n",
       "  </tbody>\n",
       "</table>\n",
       "</div>"
      ],
      "text/plain": [
       "   PassengerId  Survived  Pclass  \\\n",
       "0            1         0       3   \n",
       "1            2         1       1   \n",
       "2            3         1       3   \n",
       "3            4         1       1   \n",
       "4            5         0       3   \n",
       "\n",
       "                                                Name     Sex   Age  SibSp  \\\n",
       "0                            Braund, Mr. Owen Harris    male  22.0      1   \n",
       "1  Cumings, Mrs. John Bradley (Florence Briggs Th...  female  38.0      1   \n",
       "2                             Heikkinen, Miss. Laina  female  26.0      0   \n",
       "3       Futrelle, Mrs. Jacques Heath (Lily May Peel)  female  35.0      1   \n",
       "4                           Allen, Mr. William Henry    male  35.0      0   \n",
       "\n",
       "   Parch            Ticket     Fare Cabin Embarked  \n",
       "0      0         A/5 21171   7.2500   NaN        S  \n",
       "1      0          PC 17599  71.2833   C85        C  \n",
       "2      0  STON/O2. 3101282   7.9250   NaN        S  \n",
       "3      0            113803  53.1000  C123        S  \n",
       "4      0            373450   8.0500   NaN        S  "
      ]
     },
     "execution_count": 2,
     "metadata": {},
     "output_type": "execute_result"
    }
   ],
   "source": [
    "df_train = pd.read_csv(\"C:/Users/Spurthi Bollina/Documents/Titanic Sruvival Challenge/train.csv\")\n",
    "df_test = pd.read_csv(\"C:/Users/Spurthi Bollina/Documents/Titanic Sruvival Challenge/test.csv\")\n",
    "\n",
    "df_train.describe() # Summary on numeric values\n",
    "df_train.isnull().sum() # Age, Cabin and Embarked has missing values\n",
    "df_test.isnull().sum() # Age, Fare and Cabin has missing values\n",
    "df_train.head()"
   ]
  },
  {
   "cell_type": "markdown",
   "metadata": {},
   "source": [
    "# EDA "
   ]
  },
  {
   "cell_type": "code",
   "execution_count": 16,
   "metadata": {},
   "outputs": [
    {
     "name": "stdout",
     "output_type": "stream",
     "text": [
      "0    549\n",
      "1    342\n",
      "Name: Survived, dtype: int64\n"
     ]
    },
    {
     "data": {
      "image/png": "[encoded data removed]",
      "text/plain": [
       "<matplotlib.figure.Figure at 0x1ec228b5978>"
      ]
     },
     "metadata": {},
     "output_type": "display_data"
    }
   ],
   "source": [
    "# How many has survived?\n",
    "\n",
    "print(df_train['Survived'].value_counts())\n",
    "df_train['Survived'].value_counts().plot.pie(autopct='%1.1f%%')\n",
    "plt.title('Survived')\n",
    "plt.show()\n",
    "\n"
   ]
  },
  {
   "cell_type": "code",
   "execution_count": 45,
   "metadata": {},
   "outputs": [
    {
     "data": {
      "text/plain": [
       "Sex     Survived\n",
       "female  0           0.257962\n",
       "        1           0.742038\n",
       "male    0           0.811092\n",
       "        1           0.188908\n",
       "Name: Survived, dtype: float64"
      ]
     },
     "execution_count": 45,
     "metadata": {},
     "output_type": "execute_result"
    }
   ],
   "source": [
    "# SEX\n",
    "df_train.groupby(['Sex', 'Survived'])['Survived'].count()\n",
    "\n",
    "df_train.groupby(['Sex', 'Survived'])['Survived'].count()/df_train.groupby(['Sex'])['Survived'].count()"
   ]
  },
  {
   "cell_type": "markdown",
   "metadata": {},
   "source": [
    "Survival rate for women is 74% where as for men it is 19%\n",
    "This clearly indicates that Sex plays a vital role in Surviving"
   ]
  },
  {
   "cell_type": "code",
   "execution_count": 28,
   "metadata": {},
   "outputs": [
    {
     "data": {
      "text/plain": [
       "<matplotlib.figure.Figure at 0x1ec22737c18>"
      ]
     },
     "metadata": {},
     "output_type": "display_data"
    },
    {
     "data": {
      "image/png": "[encoded data removed]",
      "text/plain": [
       "<matplotlib.figure.Figure at 0x1ec22e5d320>"
      ]
     },
     "metadata": {},
     "output_type": "display_data"
    }
   ],
   "source": [
    "f, ax = plt.subplots(1, 2, figsize = (18,8))\n",
    "df_train[['Sex', 'Survived']].groupby(['Sex']).mean().plot.bar(ax = ax[0])\n",
    "ax[0].set_title('Survived vs Sex') \n",
    "sns.countplot('Sex', hue = 'Survived', data = df_train, ax = ax[1])\n",
    "ax[1].set_title('Sex: Survived vs Dead')\n",
    "plt.show()\n",
    "\n"
   ]
  },
  {
   "cell_type": "code",
   "execution_count": 53,
   "metadata": {},
   "outputs": [
    {
     "data": {
      "text/html": [
       "<style  type=\"text/css\" >\n",
       "    #T_4bb88cb6_c1b7_11e7_ab99_68071587aa04row0_col0 {\n",
       "            background-color:  #ffff66;\n",
       "        }    #T_4bb88cb6_c1b7_11e7_ab99_68071587aa04row0_col1 {\n",
       "            background-color:  #cee666;\n",
       "        }    #T_4bb88cb6_c1b7_11e7_ab99_68071587aa04row0_col2 {\n",
       "            background-color:  #f4fa66;\n",
       "        }    #T_4bb88cb6_c1b7_11e7_ab99_68071587aa04row1_col0 {\n",
       "            background-color:  #f6fa66;\n",
       "        }    #T_4bb88cb6_c1b7_11e7_ab99_68071587aa04row1_col1 {\n",
       "            background-color:  #ffff66;\n",
       "        }    #T_4bb88cb6_c1b7_11e7_ab99_68071587aa04row1_col2 {\n",
       "            background-color:  #ffff66;\n",
       "        }    #T_4bb88cb6_c1b7_11e7_ab99_68071587aa04row2_col0 {\n",
       "            background-color:  #60b066;\n",
       "        }    #T_4bb88cb6_c1b7_11e7_ab99_68071587aa04row2_col1 {\n",
       "            background-color:  #dfef66;\n",
       "        }    #T_4bb88cb6_c1b7_11e7_ab99_68071587aa04row2_col2 {\n",
       "            background-color:  #90c866;\n",
       "        }    #T_4bb88cb6_c1b7_11e7_ab99_68071587aa04row3_col0 {\n",
       "            background-color:  #008066;\n",
       "        }    #T_4bb88cb6_c1b7_11e7_ab99_68071587aa04row3_col1 {\n",
       "            background-color:  #008066;\n",
       "        }    #T_4bb88cb6_c1b7_11e7_ab99_68071587aa04row3_col2 {\n",
       "            background-color:  #008066;\n",
       "        }</style>  \n",
       "<table id=\"T_4bb88cb6_c1b7_11e7_ab99_68071587aa04\" > \n",
       "<thead>    <tr> \n",
       "        <th class=\"index_name level0\" >Survived</th> \n",
       "        <th class=\"col_heading level0 col0\" >0</th> \n",
       "        <th class=\"col_heading level0 col1\" >1</th> \n",
       "        <th class=\"col_heading level0 col2\" >All</th> \n",
       "    </tr>    <tr> \n",
       "        <th class=\"index_name level0\" >Pclass</th> \n",
       "        <th class=\"blank\" ></th> \n",
       "        <th class=\"blank\" ></th> \n",
       "        <th class=\"blank\" ></th> \n",
       "    </tr></thead> \n",
       "<tbody>    <tr> \n",
       "        <th id=\"T_4bb88cb6_c1b7_11e7_ab99_68071587aa04level0_row0\" class=\"row_heading level0 row0\" >1</th> \n",
       "        <td id=\"T_4bb88cb6_c1b7_11e7_ab99_68071587aa04row0_col0\" class=\"data row0 col0\" >80</td> \n",
       "        <td id=\"T_4bb88cb6_c1b7_11e7_ab99_68071587aa04row0_col1\" class=\"data row0 col1\" >136</td> \n",
       "        <td id=\"T_4bb88cb6_c1b7_11e7_ab99_68071587aa04row0_col2\" class=\"data row0 col2\" >216</td> \n",
       "    </tr>    <tr> \n",
       "        <th id=\"T_4bb88cb6_c1b7_11e7_ab99_68071587aa04level0_row1\" class=\"row_heading level0 row1\" >2</th> \n",
       "        <td id=\"T_4bb88cb6_c1b7_11e7_ab99_68071587aa04row1_col0\" class=\"data row1 col0\" >97</td> \n",
       "        <td id=\"T_4bb88cb6_c1b7_11e7_ab99_68071587aa04row1_col1\" class=\"data row1 col1\" >87</td> \n",
       "        <td id=\"T_4bb88cb6_c1b7_11e7_ab99_68071587aa04row1_col2\" class=\"data row1 col2\" >184</td> \n",
       "    </tr>    <tr> \n",
       "        <th id=\"T_4bb88cb6_c1b7_11e7_ab99_68071587aa04level0_row2\" class=\"row_heading level0 row2\" >3</th> \n",
       "        <td id=\"T_4bb88cb6_c1b7_11e7_ab99_68071587aa04row2_col0\" class=\"data row2 col0\" >372</td> \n",
       "        <td id=\"T_4bb88cb6_c1b7_11e7_ab99_68071587aa04row2_col1\" class=\"data row2 col1\" >119</td> \n",
       "        <td id=\"T_4bb88cb6_c1b7_11e7_ab99_68071587aa04row2_col2\" class=\"data row2 col2\" >491</td> \n",
       "    </tr>    <tr> \n",
       "        <th id=\"T_4bb88cb6_c1b7_11e7_ab99_68071587aa04level0_row3\" class=\"row_heading level0 row3\" >All</th> \n",
       "        <td id=\"T_4bb88cb6_c1b7_11e7_ab99_68071587aa04row3_col0\" class=\"data row3 col0\" >549</td> \n",
       "        <td id=\"T_4bb88cb6_c1b7_11e7_ab99_68071587aa04row3_col1\" class=\"data row3 col1\" >342</td> \n",
       "        <td id=\"T_4bb88cb6_c1b7_11e7_ab99_68071587aa04row3_col2\" class=\"data row3 col2\" >891</td> \n",
       "    </tr></tbody> \n",
       "</table> "
      ],
      "text/plain": [
       "<pandas.io.formats.style.Styler at 0x1ec23482518>"
      ]
     },
     "execution_count": 53,
     "metadata": {},
     "output_type": "execute_result"
    }
   ],
   "source": [
    "# Pclass - Ordinal Feature\n",
    "\n",
    "pd.crosstab(df_train.Pclass, df_train.Survived, margins = True).style.background_gradient(cmap = 'summer_r')"
   ]
  },
  {
   "cell_type": "code",
   "execution_count": 47,
   "metadata": {},
   "outputs": [
    {
     "data": {
      "text/plain": [
       "Pclass  Survived\n",
       "1       0           0.370370\n",
       "        1           0.629630\n",
       "2       0           0.527174\n",
       "        1           0.472826\n",
       "3       0           0.757637\n",
       "        1           0.242363\n",
       "Name: Survived, dtype: float64"
      ]
     },
     "execution_count": 47,
     "metadata": {},
     "output_type": "execute_result"
    }
   ],
   "source": [
    "df_train.groupby(['Pclass', 'Survived'])['Survived'].count()/df_train.groupby(['Pclass'])['Survived'].count()\n"
   ]
  },
  {
   "cell_type": "markdown",
   "metadata": {},
   "source": [
    "There seems a pattern to be observed, Pclass 1 have 62% survival rate and it kept decreasing for other classes"
   ]
  },
  {
   "cell_type": "code",
   "execution_count": 79,
   "metadata": {},
   "outputs": [
    {
     "data": {
      "image/png": "[encoded data removed]",
      "text/plain": [
       "<matplotlib.figure.Figure at 0x1ec22e75390>"
      ]
     },
     "metadata": {},
     "output_type": "display_data"
    }
   ],
   "source": [
    "f, ax = plt.subplots(1, 2, figsize = (18,8))\n",
    "df_train['Pclass'].value_counts().plot.bar(ax = ax[0])\n",
    "ax[0].set_title('Count of Passengers by Pclass')\n",
    "ax[0].set_xlabel('Pclass')\n",
    "ax[0].set_ylabel('count')\n",
    "sns.countplot('Pclass', hue = 'Survived', data = df_train, ax = ax[1])\n",
    "ax[1].set_title('Pclass: Survived Vs Dead')\n",
    "\n",
    "#for p in ax[1].patches:\n",
    "#    x=p.get_bbox().get_points()[:,0]\n",
    "#    y=p.get_bbox().get_points()[1,1]\n",
    "#    ax[1].annotate('{:.1f}%'.format(100.*y/len(df_train)), (x.mean(), y), \n",
    "#            ha='center', va='bottom') # set the alignment of the text\n",
    "\n",
    "\n",
    "plt.show()\n"
   ]
  },
  {
   "cell_type": "code",
   "execution_count": null,
   "metadata": {
    "collapsed": true
   },
   "outputs": [],
   "source": []
  }
 ],
 "metadata": {
  "kernelspec": {
   "display_name": "Python 3",
   "language": "python",
   "name": "python3"
  },
  "language_info": {
   "codemirror_mode": {
    "name": "ipython",
    "version": 3
   },
   "file_extension": ".py",
   "mimetype": "text/x-python",
   "name": "python",
   "nbconvert_exporter": "python",
   "pygments_lexer": "ipython3",
   "version": "3.6.2"
  }
 },
 "nbformat": 4,
 "nbformat_minor": 2
}
